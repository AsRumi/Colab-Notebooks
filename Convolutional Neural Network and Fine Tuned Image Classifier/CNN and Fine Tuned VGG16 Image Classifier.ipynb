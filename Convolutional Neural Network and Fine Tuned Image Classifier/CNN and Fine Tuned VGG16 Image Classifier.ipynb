{
  "nbformat": 4,
  "nbformat_minor": 0,
  "metadata": {
    "colab": {
      "provenance": [],
      "gpuType": "T4"
    },
    "kernelspec": {
      "name": "python3",
      "display_name": "Python 3"
    },
    "language_info": {
      "name": "python"
    },
    "accelerator": "GPU",
    "gpuClass": "standard"
  },
  "cells": [
    {
      "cell_type": "markdown",
      "source": [
        "# Implementation of CNN and finetuning a VGG Network for Image Classification"
      ],
      "metadata": {
        "id": "VhjdZXl0qpH0"
      }
    },
    {
      "cell_type": "markdown",
      "source": [
        "```\n",
        "pip install opendatasets --> For installing datasets into your colab notebook directly from Kaggle.\n",
        "\n",
        "input_shape = (image_height, image_width, image_channels) --> this is the format for input shape of a Conv2D layer.\n",
        "\n",
        "model.summary() --> Displays the architecture of the model we have created so far.\n",
        "```\n",
        "The width and height of the images shrinks as you go deeper into the Conv2D network.\n",
        "\n",
        "```\n",
        "load_data() function is used in this format for images:\n",
        "(train_x, train_y),(test_x, test_y) = dataset.load_data()\n",
        "\n",
        "reshape() function is used inh this format:\n",
        "train_x = train_x.reshape((dimensions))\n",
        "\n",
        "to_categorical() is used for encoding in this format:\n",
        "train_y = to_categorical(train_y)\n",
        "\n",
        "evaluate() is used for evaluating the model in this format:\n",
        "test_loss, test_acc = model.evaluate(test_x, test_y)\n",
        "```\n"
      ],
      "metadata": {
        "id": "tIiqGBuHrV9S"
      }
    },
    {
      "cell_type": "markdown",
      "source": [
        "Training your model for the \"Cats vs Dogs\" dataset will give you a base accuracy of 71% without any regularization, we will boost this to 82% using data augmentation techniques. Further after feature extraction with the help of VGG, your accuracy will go upto 94% and finally after fine-tuning your network, you will achieve a final accuracy of 97%."
      ],
      "metadata": {
        "id": "6NClvzJKvX6k"
      }
    },
    {
      "cell_type": "code",
      "source": [
        "# Loading a saved model:\n",
        "from keras.models import load_model\n",
        "vgg_model = load_model('/content/vgg16_compiled_model.h5')\n",
        "custom_model_2 = load_model('/content/drive/MyDrive/Cats vs Dogs/cats_and_dogs_small_2.h5')\n",
        "\n",
        "# Saving the history of a trained model:\n",
        "import pickle\n",
        "with open('/trainHistoryDict', 'wb') as file_pi:\n",
        "    pickle.dump(history.history, file_pi)\n",
        "\n",
        "# Loading the history of a trained model:\n",
        "import pickle\n",
        "with open('/trainHistoryDict', 'rb') as file_pi:\n",
        "    history = pickle.load(file_pi)"
      ],
      "metadata": {
        "id": "0raWoF3gbX9G"
      },
      "execution_count": null,
      "outputs": []
    },
    {
      "cell_type": "code",
      "source": [
        "!pip install opendatasets\n",
        "import opendatasets as od"
      ],
      "metadata": {
        "id": "_CtbIXeA1Zck"
      },
      "execution_count": null,
      "outputs": []
    },
    {
      "cell_type": "code",
      "source": [
        "from google.colab import drive\n",
        "drive.mount('/content/drive')"
      ],
      "metadata": {
        "id": "NA9P_B6h1eG-"
      },
      "execution_count": null,
      "outputs": []
    },
    {
      "cell_type": "code",
      "source": [
        "import os\n",
        "\n",
        "main_dir = '/content/drive/MyDrive/Cats vs Dogs/cats_and_dogs_small'\n",
        "train_dir = os.path.join(main_dir, 'train')\n",
        "test_dir = os.path.join(main_dir, 'test')\n",
        "validation_dir = os.path.join(main_dir, 'validation')\n",
        "\n",
        "train_cat_dir = os.path.join(train_dir, 'cats')\n",
        "train_dog_dir = os.path.join(train_dir, 'dogs')"
      ],
      "metadata": {
        "id": "2gSrBPiiyiL8"
      },
      "execution_count": null,
      "outputs": []
    },
    {
      "cell_type": "code",
      "source": [
        "print(f'First ten contents of the train_cat_dir are: \\n {os.listdir(train_cat_dir)[0:10]}')\n",
        "print(f'First ten contents of the train_dog_dir are: \\n {os.listdir(train_dog_dir)[0:10]}')"
      ],
      "metadata": {
        "id": "Faq_gwxYzV2E",
        "colab": {
          "base_uri": "https://localhost:8080/"
        },
        "outputId": "7b307326-7d29-4a47-a34a-7c7294a565a2"
      },
      "execution_count": null,
      "outputs": [
        {
          "output_type": "stream",
          "name": "stdout",
          "text": [
            "First ten contents of the train_cat_dir are: \n",
            " ['cat.77.jpg', 'cat.53.jpg', 'cat.132.jpg', 'cat.72.jpg', 'cat.61.jpg', 'cat.89.jpg', 'cat.70.jpg', 'cat.20.jpg', 'cat.147.jpg', 'cat.25.jpg']\n",
            "First ten contents of the train_dog_dir are: \n",
            " ['dog.10.jpg', 'dog.2.jpg', 'dog.8.jpg', 'dog.3.jpg', 'dog.0.jpg', 'dog.1.jpg', 'dog.5.jpg', 'dog.4.jpg', 'dog.7.jpg', 'dog.9.jpg']\n"
          ]
        }
      ]
    },
    {
      "cell_type": "markdown",
      "source": [
        "When you progress down the network, the size of the feature maps decreases and the depth of the feature maps increases."
      ],
      "metadata": {
        "id": "94c0TVr13MLc"
      }
    },
    {
      "cell_type": "code",
      "source": [
        "from keras.layers import Conv2D, MaxPooling2D, Flatten, Dense\n",
        "from keras.models import Sequential\n",
        "\n",
        "model = Sequential()\n",
        "\n",
        "model.add(Conv2D(32, (3,3), activation = 'relu', input_shape = (150,150,3))) # depth, kernel_window, activation_function, input_shape\n",
        "model.add(MaxPooling2D(2,2))\n",
        "model.add(Conv2D(64, (3,3), activation = 'relu'))\n",
        "model.add(MaxPooling2D(2,2))\n",
        "model.add(Conv2D(128, (3,3), activation = 'relu'))\n",
        "model.add(MaxPooling2D(2,2))\n",
        "model.add(Conv2D(128, (3,3), activation = 'relu'))\n",
        "model.add(MaxPooling2D(2,2))\n",
        "\n",
        "model.add(Flatten())\n",
        "model.add(Dense(512, activation = 'relu'))\n",
        "model.add(Dense(1, activation = 'sigmoid')) # Output shape = 1 because binary classification and that is also why sigmoid function has been used."
      ],
      "metadata": {
        "id": "mfxYExGK3Dcw"
      },
      "execution_count": null,
      "outputs": []
    },
    {
      "cell_type": "code",
      "source": [
        "model.summary()"
      ],
      "metadata": {
        "colab": {
          "base_uri": "https://localhost:8080/"
        },
        "id": "VeSUOswI4phJ",
        "outputId": "10c90db6-e645-4686-c7cd-4430d6935e31"
      },
      "execution_count": null,
      "outputs": [
        {
          "output_type": "stream",
          "name": "stdout",
          "text": [
            "Model: \"sequential\"\n",
            "_________________________________________________________________\n",
            " Layer (type)                Output Shape              Param #   \n",
            "=================================================================\n",
            " conv2d (Conv2D)             (None, 148, 148, 32)      896       \n",
            "                                                                 \n",
            " max_pooling2d (MaxPooling2D  (None, 74, 74, 32)       0         \n",
            " )                                                               \n",
            "                                                                 \n",
            " conv2d_1 (Conv2D)           (None, 72, 72, 64)        18496     \n",
            "                                                                 \n",
            " max_pooling2d_1 (MaxPooling  (None, 36, 36, 64)       0         \n",
            " 2D)                                                             \n",
            "                                                                 \n",
            " conv2d_2 (Conv2D)           (None, 34, 34, 128)       73856     \n",
            "                                                                 \n",
            " max_pooling2d_2 (MaxPooling  (None, 17, 17, 128)      0         \n",
            " 2D)                                                             \n",
            "                                                                 \n",
            " conv2d_3 (Conv2D)           (None, 15, 15, 128)       147584    \n",
            "                                                                 \n",
            " max_pooling2d_3 (MaxPooling  (None, 7, 7, 128)        0         \n",
            " 2D)                                                             \n",
            "                                                                 \n",
            " flatten (Flatten)           (None, 6272)              0         \n",
            "                                                                 \n",
            " dense (Dense)               (None, 512)               3211776   \n",
            "                                                                 \n",
            " dense_1 (Dense)             (None, 1)                 513       \n",
            "                                                                 \n",
            "=================================================================\n",
            "Total params: 3,453,121\n",
            "Trainable params: 3,453,121\n",
            "Non-trainable params: 0\n",
            "_________________________________________________________________\n"
          ]
        }
      ]
    },
    {
      "cell_type": "code",
      "source": [
        "from keras import optimizers\n",
        "model.compile(loss = 'binary_crossentropy',\n",
        "              optimizer = optimizers.RMSprop(learning_rate = 1e-4),\n",
        "              metrics = ['acc'])"
      ],
      "metadata": {
        "id": "o8szyNeF4rxI"
      },
      "execution_count": null,
      "outputs": []
    },
    {
      "cell_type": "code",
      "source": [
        "from keras.preprocessing.image import ImageDataGenerator as IDG\n",
        "\n",
        "# Setting up the data generators:\n",
        "train_datagen = IDG(rescale = 1./255)\n",
        "test_datagen = IDG(rescale = 1./255)\n",
        "\n",
        "# Using the data generators on the data available:\n",
        "train_generator = train_datagen.flow_from_directory(train_dir,\n",
        "                                                    target_size = (150,150),\n",
        "                                                    batch_size = 20,\n",
        "                                                    class_mode = 'binary')\n",
        "# The generator 'yeilds' batches of images of shape (20,150,150,3) and binary labels of shape (20,)\n",
        "for data_batch, labels_batch in train_generator:\n",
        "    print('data_batch shape: ', data_batch.shape)\n",
        "    print('labels_batch shape', labels_batch.shape)\n",
        "    break # Generators endlessly loop over the images in the target folder therefore you have to use break to stop the generator.\n",
        "\n",
        "validation_generator = test_datagen.flow_from_directory(validation_dir,\n",
        "                                                        target_size = (150,150),\n",
        "                                                        batch_size = 20,\n",
        "                                                        class_mode = 'binary')"
      ],
      "metadata": {
        "colab": {
          "base_uri": "https://localhost:8080/"
        },
        "id": "tvMOODbx5YRH",
        "outputId": "6a0c6025-b8cd-4131-ebfe-39f763ce32f9"
      },
      "execution_count": null,
      "outputs": [
        {
          "output_type": "stream",
          "name": "stdout",
          "text": [
            "Found 2000 images belonging to 2 classes.\n",
            "data_batch shape:  (20, 150, 150, 3)\n",
            "labels_batch shape (20,)\n",
            "Found 1000 images belonging to 2 classes.\n"
          ]
        }
      ]
    },
    {
      "cell_type": "code",
      "source": [
        "history = model.fit(train_generator, # Generator that generates the training data.\n",
        "                    epochs = 30, # Total number of epochs.\n",
        "                    validation_data = validation_generator)# Generator that generates the validation data."
      ],
      "metadata": {
        "id": "0KUq44B58s7X"
      },
      "execution_count": null,
      "outputs": []
    },
    {
      "cell_type": "code",
      "source": [
        "model.save('cats_and_dogs_small_1.h5')"
      ],
      "metadata": {
        "id": "wj7B3qFl-dkZ"
      },
      "execution_count": null,
      "outputs": []
    },
    {
      "cell_type": "code",
      "source": [
        "# Now plotting the loss and accuracy of the model during the training process:\n",
        "import matplotlib.pyplot as plt\n",
        "\n",
        "acc = history.history['acc']\n",
        "val_acc = history.history['val_acc']\n",
        "loss = history.history['loss']\n",
        "val_loss = history.history['val_loss']\n",
        "\n",
        "epochs = range(1, len(acc)+1)\n",
        "\n",
        "plt.plot(epochs, acc, 'bo', label = 'Training Accuracy')\n",
        "plt.plot(epochs, val_acc, 'b', label = 'Validation Accuracy')\n",
        "plt.title('Training and Validation Accuracy')\n",
        "plt.legend()\n",
        "plt.figure()\n",
        "\n",
        "plt.plot(epochs, loss, 'bo', label = 'Training Loss')\n",
        "plt.plot(epochs, val_loss, 'b', label = 'Validation Loss')\n",
        "plt.title('Training and Validation Loss')\n",
        "plt.legend()\n",
        "\n",
        "plt.show()"
      ],
      "metadata": {
        "id": "uMJQ9PKbDCWJ"
      },
      "execution_count": null,
      "outputs": []
    },
    {
      "cell_type": "markdown",
      "source": [
        "In this model, overfitting is the number one reason for such poor accuracy (of 70~%) therefore we will mitigate overfitting. You already know overfitting can be mitigated using Dropout function or the weight decay (L2 regularization) but we will use Data Augmentation to reduce overfitting, this technique is almost fundamental to computer vision in today's age."
      ],
      "metadata": {
        "id": "RVzFSn62Elcm"
      }
    },
    {
      "cell_type": "markdown",
      "source": [
        "# Data Augmentation\n",
        "Generating more training data from fewer training data samples by augmenting the data over a number of random transformations thet yeild-believeable looking images.\n",
        "```\n",
        "Setting up data augmentation using the ImageDataGenerator instance.\n",
        "```\n",
        "```\n",
        "Create a datagen ---> Create a generator ---> Use the generator on the files directory.\n",
        "```"
      ],
      "metadata": {
        "id": "qvJZZAt1FIUI"
      }
    },
    {
      "cell_type": "code",
      "source": [
        "datagen = IDG(rotation_range = 40, # (0 to 180) A range in which randomly rotates pictures.\n",
        "              width_shift_range = 0.2, # A fraction of total width in which to randomly translate pictures horizontally.\n",
        "              height_shift_range = 0.2, # A fraction of total height in which to randomly translate pictures vertically.\n",
        "              shear_range = 0.2, # Randomly applying shearing transformations.\n",
        "              zoom_range = 0.2, # Randomly zooming inside pictures.\n",
        "              horizontal_flip = True, # Randomly flipping half the images horizontally.\n",
        "              fill_mode = 'nearest') # Strategy to filling in newly created pixels after the width/height/shear transforms."
      ],
      "metadata": {
        "id": "HL40n7fhEPhx"
      },
      "execution_count": null,
      "outputs": []
    },
    {
      "cell_type": "markdown",
      "source": [
        "Displaying some images after augmentation:"
      ],
      "metadata": {
        "id": "kw8UQ1ahI8zK"
      }
    },
    {
      "cell_type": "code",
      "source": [
        "from keras.utils import load_img\n",
        "from keras.utils import img_to_array\n",
        "from keras.utils import array_to_img\n",
        "\n",
        "fnames = [os.path.join(train_cat_dir, fname) for fname in os.listdir(train_cat_dir)] # Creates a list of file names in the 'training' --> 'cats' folder.\n",
        "image_path = fnames[3] # Choose a random image to augment.\n",
        "img = load_img(image_path, target_size = (150,150)) # Read and resize the image.\n",
        "x = img_to_array(img) # Converts the image to a numpy array of shape (150, 150, 3)\n",
        "x = x.reshape((1,) + x.shape) # Converts the image to the shape of (1, 150, 150, 3)\n",
        "\n",
        "augment_count = 0\n",
        "for batch in datagen.flow(x, batch_size = 1):\n",
        "    plt.figure(augment_count) # Number of figure in one plot.\n",
        "    imgplot = plt.imshow(array_to_img(batch[0]))\n",
        "    augment_count += 1\n",
        "    if(augment_count%4 == 0):\n",
        "        break # Have to break the generator otherwise it keeps generating forever.\n",
        "\n",
        "plt.show()"
      ],
      "metadata": {
        "id": "JCRZFxM0GKPP"
      },
      "execution_count": null,
      "outputs": []
    },
    {
      "cell_type": "markdown",
      "source": [
        "# A new model trained using dropout and data augmentation:"
      ],
      "metadata": {
        "id": "KQN4kq492oEN"
      }
    },
    {
      "cell_type": "code",
      "source": [
        "from keras.models import Sequential\n",
        "from keras import layers\n",
        "from keras import optimizers\n",
        "\n",
        "model = Sequential()\n",
        "\n",
        "model.add(layers.Conv2D(32, (3,3), activation = 'relu', input_shape = (150,150,3)))\n",
        "model.add(layers.MaxPooling2D(2,2))\n",
        "model.add(layers.Conv2D(64, (3,3), activation = 'relu'))\n",
        "model.add(layers.MaxPooling2D(2,2))\n",
        "model.add(layers.Conv2D(128, (3,3), activation = 'relu'))\n",
        "model.add(layers.MaxPooling2D(2,2))\n",
        "model.add(layers.Conv2D(128, (3,3), activation = 'relu'))\n",
        "model.add(layers.MaxPooling2D(2,2))\n",
        "model.add(layers.Flatten())\n",
        "model.add(layers.Dropout(0.5))\n",
        "model.add(layers.Dense(512, activation = 'relu'))\n",
        "model.add(layers.Dense(1, activation = 'sigmoid'))\n",
        "\n",
        "model.compile(loss = 'binary_crossentropy',\n",
        "              optimizer = optimizers.RMSprop(learning_rate = 1e-4),\n",
        "              metrics = ['acc'])"
      ],
      "metadata": {
        "id": "W1e5_2gIKwTo"
      },
      "execution_count": null,
      "outputs": []
    },
    {
      "cell_type": "markdown",
      "source": [
        "\n",
        "\n",
        "\n",
        "```\n",
        "This is how we use data augmentation on datasets.\n",
        "This is usually done because we have less data available for training our machine learning model.\n",
        "```\n",
        "\n"
      ],
      "metadata": {
        "id": "I2-NP5Hg38RG"
      }
    },
    {
      "cell_type": "code",
      "source": [
        "from keras.preprocessing.image import ImageDataGenerator as IDG\n",
        "\n",
        "train_datagen = IDG(rescale = 1./255,\n",
        "                    rotation_range = 40,\n",
        "                    width_shift_range = 0.2,\n",
        "                    height_shift_range = 0.2,\n",
        "                    shear_range = 0.2,\n",
        "                    zoom_range = 0.2,\n",
        "                    horizontal_flip = True)\n",
        "\n",
        "test_datagen = IDG(rescale = 1./255)\n",
        "\n",
        "train_generator = train_datagen.flow_from_directory(train_dir,\n",
        "                                                    target_size = (150,150),\n",
        "                                                    batch_size = 32,\n",
        "                                                    class_mode = 'binary')\n",
        "\n",
        "validation_generator = test_datagen.flow_from_directory(validation_dir,\n",
        "                                                        target_size = (150,150),\n",
        "                                                        batch_size = 32,\n",
        "                                                        class_mode = 'binary')\n",
        "\n",
        "history = model.fit(train_generator,\n",
        "                    epochs = 100,\n",
        "                    validation_data = validation_generator)\n",
        "\n",
        "model.save('cats_and_dogs_small_2.h5')"
      ],
      "metadata": {
        "id": "YPFrRZqv3yzI"
      },
      "execution_count": null,
      "outputs": []
    },
    {
      "cell_type": "markdown",
      "source": [
        "Now we have two trained models for solving this little problem, however their accuracy still isn't all that great. Therefore we will be looking at a new technique for achieving better accuracy. Using pretrained Convnets."
      ],
      "metadata": {
        "id": "eBAycoRWG5rH"
      }
    },
    {
      "cell_type": "markdown",
      "source": [
        "# Pretrained Convnet - VGG16\n",
        "These Convnets have already been trained on previous datasets and they have a good accuracy score. All we need to do from these Convnets is extract the features from the convolutional base and create our own densely connected layers for tackling the classification problem."
      ],
      "metadata": {
        "id": "pcSiw7qNHOn3"
      }
    },
    {
      "cell_type": "markdown",
      "source": [
        "There are two steps to making pretrained Convnets work:-\n",
        "- Feature Extraction\n",
        "- Fine Tuning"
      ],
      "metadata": {
        "id": "s90GhcOxH0sT"
      }
    },
    {
      "cell_type": "markdown",
      "source": [
        "## 1. Feature Extraction"
      ],
      "metadata": {
        "id": "MXim19PuJKnW"
      }
    },
    {
      "cell_type": "markdown",
      "source": [
        "Downloading the pretrained convnet we will use further:"
      ],
      "metadata": {
        "id": "AfWey2EaqbRn"
      }
    },
    {
      "cell_type": "code",
      "source": [
        "# The pretrained Convnet we will be using here is the VGG16 from keras.applications.\n",
        "# This Convnet has been trained on the ImageNet Dataset.\n",
        "# ImageNet dataset has 1.4 million labeled images and 1000 classes all pertaining to nature and animals.\n",
        "# There are many other pretrained Convnets that use the ImageNet dataset:\n",
        "# Xception, Inception V3, ResNet50, VGG16, VGG19, MobileNet\n",
        "from keras.applications import VGG16\n",
        "\n",
        "conv_base = VGG16(weights = 'imagenet',\n",
        "                  include_top = False, # include_top decides whether to include the dense layer of the application or only the convolutional base.\n",
        "                  input_shape = (150,150,3))"
      ],
      "metadata": {
        "colab": {
          "base_uri": "https://localhost:8080/"
        },
        "id": "VSFQYbzR5acn",
        "outputId": "6ead4ac5-5d5a-471f-8679-5f1efd5e72f8"
      },
      "execution_count": null,
      "outputs": [
        {
          "output_type": "stream",
          "name": "stdout",
          "text": [
            "Downloading data from https://storage.googleapis.com/tensorflow/keras-applications/vgg16/vgg16_weights_tf_dim_ordering_tf_kernels_notop.h5\n",
            "58889256/58889256 [==============================] - 3s 0us/step\n"
          ]
        }
      ]
    },
    {
      "cell_type": "markdown",
      "source": [
        "Now that we have the convolutional base, we need to stick our densely connected layer on top of this.\n",
        "\n",
        "Again, there are 2 ways of achieving that:\n",
        "- Running the convolutional base through the data set, recording its output as a Numpy array and giving this output to a standalone Dense() classifier as an input. {Fast and cheap but this technique will not allow you to use data augmentation.}\n",
        "- Extending the model by adding Dense layers on top, and running the whole thing end to end on the input data. {Can use data augmentation but very expensive because the Convolutional base runs for every image multiple times based on how you augment the data.}"
      ],
      "metadata": {
        "id": "hqyS4wtLJGjw"
      }
    },
    {
      "cell_type": "markdown",
      "source": [
        "**Method 1: Without data augmentation:**"
      ],
      "metadata": {
        "id": "JOugtrZPKQm4"
      }
    },
    {
      "cell_type": "code",
      "source": [
        "import os\n",
        "import numpy as np\n",
        "from keras.preprocessing.image import ImageDataGenerator as IDG\n",
        "\n",
        "base_dir = '/content/drive/MyDrive/Cats vs Dogs/cats_and_dogs_small'\n",
        "train_dir = os.path.join(base_dir, 'train')\n",
        "test_dir = os.path.join(base_dir, 'test')\n",
        "validation_dir = os.path.join(base_dir, 'validation')\n",
        "\n",
        "datagen = IDG(rescale = 1./255)\n",
        "batch_size = 20\n",
        "\n",
        "def extract_features(directory, sample_count):\n",
        "    features = np.zeros(shape = (sample_count, 4, 4, 512)) # (4,4,512) is the output of the last layer of the pretrained convnet. You can verify using the .summary() function.\n",
        "    labels = np.zeros(shape = (sample_count))\n",
        "    generator = datagen.flow_from_directory(directory,\n",
        "                                            target_size = (150,150),\n",
        "                                            batch_size = batch_size,\n",
        "                                            class_mode = 'binary')\n",
        "    i = 0 # To generate images till the sample count.\n",
        "    for inputs_batch, labels_batch in generator:\n",
        "        features_batch = conv_base.predict(inputs_batch)\n",
        "        features[i * batch_size : (i+1) * batch_size] = features_batch\n",
        "        labels[i * batch_size : (i+1) * batch_size] = labels_batch\n",
        "        i += 1\n",
        "        if i*batch_size>=sample_count:\n",
        "            break\n",
        "    return features, labels\n",
        "\n",
        "train_features, train_labels = extract_features(train_dir, 2000)\n",
        "test_features, test_labels = extract_features(test_dir, 1000)\n",
        "validation_features, validation_labels = extract_features(validation_dir, 1000)\n",
        "\n",
        "# Features have been extracted, now we flatten them manually so we can feed them into the densely connected layers.\n",
        "\n",
        "train_features = np.reshape(train_features, (2000, 4*4*512))\n",
        "test_features = np.reshape(test_features, (1000, 4*4*512))\n",
        "validation_features = np.reshape(validation_features, (1000, 4*4*512))\n",
        "\n",
        "# Now we can design our densely connected classifier and train it on the data we extracted.\n",
        "\n",
        "from keras.models import Sequential\n",
        "from keras.layers import Dense, Dropout\n",
        "from keras.optimizers import RMSprop\n",
        "\n",
        "model = Sequential()\n",
        "model.add(Dense(256, activation = 'relu', input_dim = 4*4*512))\n",
        "model.add(Dropout(0.5))\n",
        "model.add(Dense(1, activation = 'sigmoid'))\n",
        "\n",
        "model.compile(loss = 'binary_crossentropy',\n",
        "              optimizer = RMSprop(learning_rate = 2e-5),\n",
        "              metrics = ['acc'])"
      ],
      "metadata": {
        "id": "V4DI9SQ7KOsr"
      },
      "execution_count": null,
      "outputs": []
    },
    {
      "cell_type": "code",
      "source": [
        "history = model.fit(train_features, train_labels,\n",
        "                    epochs = 30,\n",
        "                    batch_size = 20,\n",
        "                    validation_data = (validation_features, validation_labels))"
      ],
      "metadata": {
        "id": "CDNnAa86SoRn"
      },
      "execution_count": null,
      "outputs": []
    },
    {
      "cell_type": "code",
      "source": [
        "model.save('vgg16_compiled_model.h5')"
      ],
      "metadata": {
        "id": "2w6NfNTbUKkv"
      },
      "execution_count": null,
      "outputs": []
    },
    {
      "cell_type": "markdown",
      "source": [
        "**2. With Data Augmentation:**"
      ],
      "metadata": {
        "id": "uuZFMm93hH7_"
      }
    },
    {
      "cell_type": "markdown",
      "source": [
        "Since running the entire conv_base on the dataset would be too expensive in terms of resource usage, we freeze the layers of the conv_base because we do not want the weights updating during the training process. This is done in the following way:"
      ],
      "metadata": {
        "id": "DIxaFkbXhr91"
      }
    },
    {
      "cell_type": "code",
      "source": [
        "from keras.models import Sequential\n",
        "from keras.layers import Dense, Flatten\n",
        "from keras.optimizers import RMSprop\n",
        "\n",
        "freezed_model = Sequential()\n",
        "freezed_model.add(conv_base)\n",
        "freezed_model.add(Flatten())\n",
        "freezed_model.add(Dense(256, activation = 'relu'))\n",
        "freezed_model.add(Dense(1, activation = 'sigmoid'))\n",
        "\n",
        "conv_base.trainable = False\n",
        "\n",
        "from keras.preprocessing.image import ImageDataGenerator as IDG\n",
        "from keras import optimizers\n",
        "\n",
        "# Data augmentation being done with the train_datagen:\n",
        "train_datagen = IDG(rescale = 1./255,\n",
        "                    rotation_range = 40,\n",
        "                    width_shift_range = 0.2,\n",
        "                    height_shift_range = 0.2,\n",
        "                    shear_range = 0.2,\n",
        "                    zoom_range = 0.2,\n",
        "                    horizontal_flip = True,\n",
        "                    fill_mode = 'nearest')\n",
        "\n",
        "test_datagen = IDG(rescale = 1./255)\n",
        "\n",
        "train_generator = train_datagen.flow_from_directory(train_dir,\n",
        "                                                    target_size = (150,150),\n",
        "                                                    batch_size = 20,\n",
        "                                                    class_mode = 'binary')\n",
        "\n",
        "validation_generator = test_datagen.flow_from_directory(validation_dir,\n",
        "                                                        target_size = (150,150),\n",
        "                                                        batch_size = 20,\n",
        "                                                        class_mode = 'binary')\n",
        "\n",
        "print(f'This is the number of trainable weights after freezing the conv_base: {len(freezed_model.trainable_weights)}')"
      ],
      "metadata": {
        "colab": {
          "base_uri": "https://localhost:8080/"
        },
        "id": "AF5Ttfd8hONi",
        "outputId": "dbf457b3-7524-4a57-ad87-73db2d63ccc8"
      },
      "execution_count": null,
      "outputs": [
        {
          "output_type": "stream",
          "name": "stdout",
          "text": [
            "Found 2000 images belonging to 2 classes.\n",
            "Found 1000 images belonging to 2 classes.\n",
            "This is the number of trainable weights after freezing the conv_base: 4\n"
          ]
        }
      ]
    },
    {
      "cell_type": "code",
      "source": [
        "freezed_model.compile(loss = 'binary_crossentropy',\n",
        "                      optimizer = optimizers.RMSprop(learning_rate = 2e-5),\n",
        "                      metrics = ['acc'])\n",
        "\n",
        "history = freezed_model.fit(train_generator,\n",
        "                            steps_per_epoch = 100,\n",
        "                            epochs = 30,\n",
        "                            validation_data = validation_generator,\n",
        "                            validation_steps = 50)"
      ],
      "metadata": {
        "id": "qCO3Eb7MpaJH"
      },
      "execution_count": null,
      "outputs": []
    },
    {
      "cell_type": "code",
      "source": [
        "freezed_model.save('freezed_cats_vs_dogs.h5')"
      ],
      "metadata": {
        "id": "dJPQaHTjySBA"
      },
      "execution_count": null,
      "outputs": []
    },
    {
      "cell_type": "code",
      "source": [
        "# Saving the history of the freezed model:\n",
        "import pickle\n",
        "with open('freezed_model', 'wb') as file_pi:\n",
        "    pickle.dump(history.history, file_pi)"
      ],
      "metadata": {
        "id": "2R0qWhhZydBT"
      },
      "execution_count": null,
      "outputs": []
    },
    {
      "cell_type": "markdown",
      "source": [
        "## 2. Fine Tuning"
      ],
      "metadata": {
        "id": "HuSvWe0Rzqa5"
      }
    },
    {
      "cell_type": "markdown",
      "source": [
        "In feature extraction, the whole conv_base of the VGG16 model was frozen and only the fully connected dense classifier was being trained on the data. However in fine-tuning, some of the top layers of conv_base are unfreezed so these layers that have learnt the general representations can learn more specific representations along with the Dense layers that we have added."
      ],
      "metadata": {
        "id": "X9QHgNoQjrQO"
      }
    },
    {
      "cell_type": "markdown",
      "source": [
        "One thing to keep in mind when you are fine-tuning a pretrained network is that the layers that you add on top must already be trained first with the whole pretrained network frozen and only after that, unfreeze the top layers of the pretrained network and train both the added layers and the pretrained network jointly."
      ],
      "metadata": {
        "id": "F-hEQxHokXqm"
      }
    },
    {
      "cell_type": "markdown",
      "source": [
        "This is done because if the layers that are being added on top do not have learned representations, the weight updation on the unfreezed layers will be massive and might completely change/retrain the representations learned by the pretrained network."
      ],
      "metadata": {
        "id": "IJCLgp3OoVsC"
      }
    },
    {
      "cell_type": "code",
      "source": [
        "import os\n",
        "from keras.applications import VGG16\n",
        "from keras.models import Sequential, load_model\n",
        "from keras.layers import Flatten, Dense\n",
        "from keras import optimizers\n",
        "from keras.preprocessing.image import ImageDataGenerator as IDG\n",
        "\n",
        "from google.colab import drive\n",
        "drive.mount('/content/drive')\n",
        "\n",
        "\n",
        "main_dir = '/content/drive/MyDrive/Cats vs Dogs/cats_and_dogs_small'\n",
        "train_dir = os.path.join(main_dir, 'train')\n",
        "test_dir = os.path.join(main_dir, 'test')\n",
        "validation_dir = os.path.join(main_dir, 'validation')\n",
        "\n",
        "train_cat_dir = os.path.join(train_dir, 'cats')\n",
        "train_dog_dir = os.path.join(train_dir, 'dogs')\n",
        "\n",
        "conv_base = VGG16(weights = 'imagenet',\n",
        "                  include_top = False,\n",
        "                  input_shape = (150,150,3))\n",
        "\n",
        "# First we have to add the conv_base as it is to the model and train it, then fine-tune the toplayers of the conv_base.\n",
        "model = Sequential()\n",
        "model.add(conv_base)\n",
        "model.add(Flatten())\n",
        "model.add(Dense(256, activation = 'relu'))\n",
        "model.add(Dense(1, activation = 'sigmoid'))\n",
        "\n",
        "# Length of trainable_weights at this point is 30.\n",
        "\n",
        "model.compile(loss = 'binary_crossentropy',\n",
        "              optimizer = optimizers.RMSprop(learning_rate = 2e-5),\n",
        "              metrics = ['acc'])\n",
        "\n",
        "train_datagen = IDG(rescale = 1./255,\n",
        "                    width_shift_range = 0.2,\n",
        "                    height_shift_range = 0.2,\n",
        "                    rotation_range = 40,\n",
        "                    horizontal_flip = True,\n",
        "                    shear_range = 0.2,\n",
        "                    zoom_range = 0.2,\n",
        "                    fill_mode = 'nearest')\n",
        "\n",
        "test_datagen = IDG(rescale = 1./255)\n",
        "\n",
        "train_generator = train_datagen.flow_from_directory(train_dir,\n",
        "                                                    target_size = (150,150),\n",
        "                                                    batch_size = 20,\n",
        "                                                    class_mode = 'binary')\n",
        "\n",
        "validation_generator = test_datagen.flow_from_directory(validation_dir,\n",
        "                                                        target_size = (150,150),\n",
        "                                                        batch_size = 20,\n",
        "                                                        class_mode = 'binary')\n",
        "\n",
        "history = model.fit(train_generator,\n",
        "                    steps_per_epoch = 100,\n",
        "                    epochs = 30,\n",
        "                    validation_data = validation_generator,\n",
        "                    validation_steps = 50)\n",
        "\n",
        "# Now we unfreeze the fifth Conv2D block of conv_base and train the model again.\n",
        "conv_base.trainable = True\n",
        "set_trainable = False\n",
        "for layer in conv_base.layers:\n",
        "    if layer.name == 'block5_conv1':\n",
        "        set_trainable = True\n",
        "    if set_trainable:\n",
        "        layer.trainable = True\n",
        "    else:\n",
        "        layer.trainable = False\n",
        "\n",
        "model.compile(loss = 'binary_crossentropy',\n",
        "              optimizer = optimizers.RMSprop(learning_rate = 1e-5),\n",
        "              metrics = ['acc'])\n",
        "\n",
        "history = model.fit(train_generator,\n",
        "                    steps_per_epoch = 100,\n",
        "                    epochs = 100,\n",
        "                    validation_data = validation_generator,\n",
        "                    validation_steps = 50)"
      ],
      "metadata": {
        "id": "hybz35PmztSk"
      },
      "execution_count": null,
      "outputs": []
    },
    {
      "cell_type": "code",
      "source": [
        "model.save('finetuned_cats_vs_dogs.h5')"
      ],
      "metadata": {
        "id": "6Ih0T1aASuHP"
      },
      "execution_count": null,
      "outputs": []
    },
    {
      "cell_type": "code",
      "source": [
        "test_generator = test_datagen.flow_from_directory(test_dir,\n",
        "                                                  target_size = (150,150),\n",
        "                                                  batch_size = 20,\n",
        "                                                  class_mode = 'binary')\n",
        "\n",
        "test_loss, test_acc = model.evaluate_generator(test_generator, steps = 50)\n",
        "print('test acc: ', test_acc)"
      ],
      "metadata": {
        "id": "LMeAZKIexjPc",
        "colab": {
          "base_uri": "https://localhost:8080/"
        },
        "outputId": "5751a4d4-8fbd-4c28-bd92-e6a56d598686"
      },
      "execution_count": null,
      "outputs": [
        {
          "output_type": "stream",
          "name": "stdout",
          "text": [
            "Found 1000 images belonging to 2 classes.\n"
          ]
        },
        {
          "output_type": "stream",
          "name": "stderr",
          "text": [
            "<ipython-input-4-002239ceb912>:6: UserWarning: `Model.evaluate_generator` is deprecated and will be removed in a future version. Please use `Model.evaluate`, which supports generators.\n",
            "  test_loss, test_acc = model.evaluate_generator(test_generator, steps = 50)\n"
          ]
        },
        {
          "output_type": "stream",
          "name": "stdout",
          "text": [
            "test acc:  0.9679999947547913\n"
          ]
        }
      ]
    },
    {
      "cell_type": "code",
      "source": [
        "# IGNORE CELL\n",
        "dummy_model = load_model('/content/freezed_cats_vs_dogs.h5')\n",
        "dummy_model.summary()\n",
        "\n",
        "test_generator = test_datagen.flow_from_directory(test_dir,\n",
        "                                                  target_size = (150,150),\n",
        "                                                  batch_size = 20,\n",
        "                                                  class_mode = 'binary')\n",
        "\n",
        "test_loss, test_acc = dummy_model.evaluate_generator(test_generator, steps = 50)\n",
        "print('test acc: ', test_acc)"
      ],
      "metadata": {
        "colab": {
          "base_uri": "https://localhost:8080/"
        },
        "id": "ivRNq1_JvVTt",
        "outputId": "3462cfbf-fa55-40c4-e7eb-910ac71b3ee6"
      },
      "execution_count": null,
      "outputs": [
        {
          "output_type": "stream",
          "name": "stdout",
          "text": [
            "Model: \"sequential_3\"\n",
            "_________________________________________________________________\n",
            " Layer (type)                Output Shape              Param #   \n",
            "=================================================================\n",
            " vgg16 (Functional)          (None, 4, 4, 512)         14714688  \n",
            "                                                                 \n",
            " flatten_3 (Flatten)         (None, 8192)              0         \n",
            "                                                                 \n",
            " dense_6 (Dense)             (None, 256)               2097408   \n",
            "                                                                 \n",
            " dense_7 (Dense)             (None, 1)                 257       \n",
            "                                                                 \n",
            "=================================================================\n",
            "Total params: 16,812,353\n",
            "Trainable params: 2,097,665\n",
            "Non-trainable params: 14,714,688\n",
            "_________________________________________________________________\n",
            "Found 1000 images belonging to 2 classes.\n"
          ]
        },
        {
          "output_type": "stream",
          "name": "stderr",
          "text": [
            "<ipython-input-23-86dc42ea418a>:9: UserWarning: `Model.evaluate_generator` is deprecated and will be removed in a future version. Please use `Model.evaluate`, which supports generators.\n",
            "  test_loss, test_acc = dummy_model.evaluate_generator(test_generator, steps = 50)\n"
          ]
        },
        {
          "output_type": "stream",
          "name": "stdout",
          "text": [
            "test acc:  0.8970000147819519\n"
          ]
        }
      ]
    },
    {
      "cell_type": "markdown",
      "source": [
        "# Visualizing learned representations"
      ],
      "metadata": {
        "id": "wmwICYkqQJoz"
      }
    },
    {
      "cell_type": "markdown",
      "source": [
        "## 1. Visualizing Intermediate Activations"
      ],
      "metadata": {
        "id": "iUufzTOSmo6M"
      }
    },
    {
      "cell_type": "markdown",
      "source": [
        "Visualizing intermediate activations is essentially displaying the feature maps of each individual convolution and pooling layers in a network. For visualizing intermediate activations, we shall use the small model we created on cats_vs_dogs.\n",
        "\n",
        "WE WILL CALL THE OUTPUT OF A LAYER AS AN ACTIVATION."
      ],
      "metadata": {
        "id": "gMKbgDfaR6hk"
      }
    },
    {
      "cell_type": "code",
      "source": [
        "from google.colab import drive\n",
        "drive.mount('/content/drive')"
      ],
      "metadata": {
        "id": "rVcBenbValiA",
        "colab": {
          "base_uri": "https://localhost:8080/"
        },
        "outputId": "7a239382-dc3c-45b8-d15c-c2e8ede0b9cb"
      },
      "execution_count": null,
      "outputs": [
        {
          "output_type": "stream",
          "name": "stdout",
          "text": [
            "Mounted at /content/drive\n"
          ]
        }
      ]
    },
    {
      "cell_type": "code",
      "source": [
        "from keras.models import load_model\n",
        "current = load_model('/content/drive/MyDrive/Cats vs Dogs/cats_and_dogs_small_2.h5')\n",
        "current.summary()"
      ],
      "metadata": {
        "id": "G6iVn9S1StLE"
      },
      "execution_count": null,
      "outputs": []
    },
    {
      "cell_type": "code",
      "source": [
        "# Now let us get a picture of a cat from the test dataset, not from the part of the images the model was trained on.\n",
        "img_path = '/content/drive/MyDrive/Cats vs Dogs/cats_and_dogs_small/test/cats/cat.1700.jpg'\n",
        "\n",
        "from keras.utils import load_img, img_to_array # For preprocessing the image into a 4D tensor.\n",
        "import numpy as np\n",
        "\n",
        "img = load_img(img_path, target_size = (150,150))\n",
        "img_tensor = img_to_array(img)\n",
        "img_tensor = np.expand_dims(img_tensor, axis = 0)\n",
        "img_tensor /= 255.\n",
        "\n",
        "# We did the preprocessing becauase the model was trained on that format of images:\n",
        "print(img_tensor.shape)"
      ],
      "metadata": {
        "colab": {
          "base_uri": "https://localhost:8080/"
        },
        "id": "OT8eNDizTEJ0",
        "outputId": "0218a663-59c1-4738-9237-2c2918011bcf"
      },
      "execution_count": null,
      "outputs": [
        {
          "output_type": "stream",
          "name": "stdout",
          "text": [
            "(1, 150, 150, 3)\n"
          ]
        }
      ]
    },
    {
      "cell_type": "code",
      "source": [
        "# Now let us display the picture using matplotlib\n",
        "import matplotlib.pyplot as plt\n",
        "\n",
        "plt.imshow(img_tensor[0])\n",
        "plt.show()"
      ],
      "metadata": {
        "id": "YQVfPVbWUi40"
      },
      "execution_count": null,
      "outputs": []
    },
    {
      "cell_type": "code",
      "source": [
        "# Next let us create a Keras model that takes batches of images as inputs, and outputs the activation of all convolution and pooling layers in the network.\n",
        "from keras import models\n",
        "\n",
        "layer_outputs = [layer.output for layer in current.layers[:8]] # Extracts the output of the top 8 layers of the network. [First 8 layers of the network are the convolution and pooling layers.]\n",
        "activation_model = models.Model(inputs = current.input,\n",
        "                                outputs = layer_outputs) # Creates a model that will return these outputs, given the model input.\n",
        "\n",
        "# Running the model in predict mode.\n",
        "activations = activation_model.predict(img_tensor)\n",
        "first_layer_activation = activations[0]\n",
        "print(first_layer_activation.shape) # (1, 148, 148, 32): It is a 148x148 feature map with 32 channels."
      ],
      "metadata": {
        "colab": {
          "base_uri": "https://localhost:8080/"
        },
        "id": "3WguueN6ViKa",
        "outputId": "cddf26d9-56ee-4ded-a054-80b6d9218714"
      },
      "execution_count": null,
      "outputs": [
        {
          "output_type": "stream",
          "name": "stdout",
          "text": [
            "1/1 [==============================] - 8s 8s/step\n",
            "(1, 148, 148, 32)\n"
          ]
        }
      ]
    },
    {
      "cell_type": "markdown",
      "source": [
        "Shape of a feature map signifies the following: (length, size, size, num_of_features)"
      ],
      "metadata": {
        "id": "LXQuD_oQffH7"
      }
    },
    {
      "cell_type": "code",
      "source": [
        "# Since the activation has 32 channels, let's try plotting the fourth channel of the activation of the first layer.\n",
        "import matplotlib.pyplot as plt\n",
        "plt.matshow(first_layer_activation[0, : , :, 4],\n",
        "            cmap = 'viridis')"
      ],
      "metadata": {
        "id": "OnzJyGEMYTnN"
      },
      "execution_count": null,
      "outputs": []
    },
    {
      "cell_type": "code",
      "source": [
        "# Now let us try seeing the 10th channel of this particular activation.\n",
        "plt.matshow(first_layer_activation[0, : , :, 10],\n",
        "            cmap = 'viridis')"
      ],
      "metadata": {
        "id": "17ZRVMA1cbfL"
      },
      "execution_count": null,
      "outputs": []
    },
    {
      "cell_type": "code",
      "source": [
        "# Now we shall try visualizing every channel in every alternate activation.\n",
        "import numpy as np\n",
        "# Creating a layer_names list so we can plot the channels against their own names.\n",
        "layer_names = []\n",
        "for layer in current.layers[:8:2]: # A jump of 2 so that we only display the actia\n",
        "    layer_names.append(layer.name)\n",
        "\n",
        "images_per_row = 10\n",
        "for layer_name, layer_activation in zip(layer_names, activations):\n",
        "    n_features = layer_activation.shape[-1] # Number of features in the feature map, the feature map has shape (length, size, size, n_features)\n",
        "    size = layer_activation.shape[1]\n",
        "    n_cols = n_features // images_per_row # Number of columns on the display figure\n",
        "    display_grid = np.zeros((size * n_cols, images_per_row * size))\n",
        "\n",
        "    for col in range(n_cols):\n",
        "        for row in range(images_per_row):\n",
        "            channel_image = layer_activation[0, : , :, col * images_per_row + row] # Traversing the features of the feature map from start to end.\n",
        "\n",
        "            # Now we post-process the image to make it visually palatable.\n",
        "            channel_image -= channel_image.mean()\n",
        "            channel_image /= channel_image.std()\n",
        "            channel_image *= 64\n",
        "            channel_image += 128\n",
        "            channel_image = np.clip(channel_image, 0, 255).astype('uint8')\n",
        "            display_grid[col * size:(col+1) * size,\n",
        "                         row * size:(row+1) * size] = channel_image\n",
        "\n",
        "    scale = 1./size\n",
        "    plt.figure(figsize = (scale * display_grid.shape[1],\n",
        "                          scale * display_grid.shape[0]))\n",
        "\n",
        "    plt.title(layer_name)\n",
        "    plt.grid(False)\n",
        "    plt.imshow(display_grid, aspect = 'auto', cmap = 'viridis')"
      ],
      "metadata": {
        "id": "2lcHAI2QczkJ"
      },
      "execution_count": null,
      "outputs": []
    },
    {
      "cell_type": "markdown",
      "source": [
        "There are a few things to note here:\n",
        "1. The first layer acts as a collection of various edge detectors. At that stage, the\n",
        "activations retain almost all of the information present in the initial picture.\n",
        "2. As you go higher, the activations become increasingly abstract and less visually\n",
        "interpretable. They begin to encode higher-level concepts such as “cat ear” and\n",
        "“cat eye.” Higher presentations carry increasingly less information about the\n",
        "visual contents of the image, and increasingly more information related to the\n",
        "class of the image.\n",
        "3. The sparsity of the activations increases with the depth of the layer: in the first\n",
        "layer, all filters are activated by the input image; but in the following layers,\n",
        "more and more filters are blank. This means the pattern encoded by the filter\n",
        "isn’t found in the input image."
      ],
      "metadata": {
        "id": "oPIFWlZNmMf8"
      }
    },
    {
      "cell_type": "markdown",
      "source": [
        "# Graphs and Confusion Matrix"
      ],
      "metadata": {
        "id": "1GiVt_A0h-dz"
      }
    },
    {
      "cell_type": "code",
      "source": [
        "import matplotlib.pyplot as plt\n",
        "\n",
        "epochs = range(1, 31)  # Epoch numbers\n",
        "\n",
        "# Training data\n",
        "loss = [0.4772, 0.2782, 0.2235, 0.1775, 0.1496, 0.1245, 0.1147, 0.1047, 0.1078, 0.0979,\n",
        "        0.0901, 0.0759, 0.0820, 0.0625, 0.0618, 0.0625, 0.0647, 0.0565, 0.0388, 0.0640,\n",
        "        0.0528, 0.0419, 0.0432, 0.0381, 0.0401, 0.0349, 0.0598, 0.0333, 0.0445, 0.0427]\n",
        "\n",
        "accuracy = [0.7650, 0.8835, 0.9045, 0.9305, 0.9425, 0.9535, 0.9535, 0.9635, 0.9595, 0.9640,\n",
        "            0.9630, 0.9720, 0.9665, 0.9820, 0.9770, 0.9805, 0.9775, 0.9805, 0.9870, 0.9805,\n",
        "            0.9820, 0.9855, 0.9875, 0.9850, 0.9885, 0.9890, 0.9880, 0.9885, 0.9860, 0.9860]\n",
        "\n",
        "# Validation data\n",
        "val_loss = [0.2237, 0.2522, 0.1991, 0.1126, 0.1239, 0.1180, 0.0806, 0.0947, 0.0882, 0.1139,\n",
        "            0.1246, 0.1337, 0.1155, 0.1072, 0.1177, 0.1346, 0.1053, 0.0988, 0.1309, 0.1299,\n",
        "            0.2524, 0.1179, 0.1096, 0.1593, 0.1312, 0.1223, 0.1417, 0.1768, 0.1308, 0.1272]\n",
        "\n",
        "val_accuracy = [0.9150, 0.8790, 0.9020, 0.9650, 0.9430, 0.9610, 0.9710, 0.9670, 0.9680, 0.9520,\n",
        "                0.9610, 0.9590, 0.9550, 0.9730, 0.9690, 0.9630, 0.9660, 0.9650, 0.9590, 0.9630,\n",
        "                0.9460, 0.9670, 0.9650, 0.9720, 0.9630, 0.9700, 0.9660, 0.9650, 0.9690, 0.9680]\n",
        "\n",
        "plt.plot(epochs, loss, 'b', label='Training Loss')\n",
        "plt.plot(epochs, accuracy, 'r', label='Training Accuracy')\n",
        "plt.title('Training Loss and Accuracy of the Fine Tuned Model')\n",
        "plt.xlabel('Epochs')\n",
        "plt.ylabel('Loss / Accuracy')\n",
        "plt.legend()\n",
        "plt.show()"
      ],
      "metadata": {
        "colab": {
          "base_uri": "https://localhost:8080/",
          "height": 472
        },
        "id": "KsFGIteNh-KU",
        "outputId": "9bd605a7-6020-439b-c656-8310be1bfa7d"
      },
      "execution_count": null,
      "outputs": [
        {
          "output_type": "display_data",
          "data": {
            "text/plain": [
              "<Figure size 640x480 with 1 Axes>"
            ],
            "image/png": "[encoded data removed]"
          },
          "metadata": {}
        }
      ]
    },
    {
      "cell_type": "code",
      "source": [
        "plt.plot(epochs, val_loss, 'b', label='Validation Loss')\n",
        "plt.plot(epochs, val_accuracy, 'r', label='Validation Accuracy')\n",
        "plt.title('Validation Loss and Accuracy of the Fine Tuned Model')\n",
        "plt.xlabel('Epochs')\n",
        "plt.ylabel('Loss / Accuracy')\n",
        "plt.legend()\n",
        "plt.show()"
      ],
      "metadata": {
        "colab": {
          "base_uri": "https://localhost:8080/",
          "height": 472
        },
        "id": "NCiQAUEeiTyx",
        "outputId": "4304ec1c-7789-47d5-dd46-adae6ed4c9c8"
      },
      "execution_count": null,
      "outputs": [
        {
          "output_type": "display_data",
          "data": {
            "text/plain": [
              "<Figure size 640x480 with 1 Axes>"
            ],
            "image/png": "[encoded data removed]"
          },
          "metadata": {}
        }
      ]
    },
    {
      "cell_type": "code",
      "source": [
        "# Confusion Matrix\n",
        "from tensorflow.keras.models import load_model\n",
        "test_directory = '/content/drive/MyDrive/Cats vs Dogs/cats_and_dogs_small/test'\n",
        "\n",
        "fine_tuned = load_model('/content/drive/MyDrive/Cats vs Dogs/finetuned_cats_vs_dogs.h5')"
      ],
      "metadata": {
        "id": "W9VHJDCgif1g"
      },
      "execution_count": null,
      "outputs": []
    },
    {
      "cell_type": "code",
      "source": [
        "from keras.preprocessing.image import ImageDataGenerator\n",
        "\n",
        "data_generator = ImageDataGenerator(rescale=1./255)\n",
        "\n",
        "# Load the test images and labels\n",
        "test_generator = data_generator.flow_from_directory(directory = test_directory,\n",
        "                                                    target_size = (150, 150),\n",
        "                                                    class_mode='categorical',\n",
        "                                                    shuffle = False)\n",
        "# Get the true labels\n",
        "y_test = test_generator.classes"
      ],
      "metadata": {
        "colab": {
          "base_uri": "https://localhost:8080/"
        },
        "id": "p4eNijMrkG8B",
        "outputId": "54b6b11d-bfa7-4d7d-bfdf-e468bce2a2dc"
      },
      "execution_count": null,
      "outputs": [
        {
          "output_type": "stream",
          "name": "stdout",
          "text": [
            "Found 1000 images belonging to 2 classes.\n"
          ]
        }
      ]
    },
    {
      "cell_type": "code",
      "source": [
        "# Generate the predicted labels for the test images\n",
        "y_pred = fine_tuned.predict(test_generator)\n",
        "\n",
        "# y_pred = y_pred.argmax(axis = 1)"
      ],
      "metadata": {
        "colab": {
          "base_uri": "https://localhost:8080/"
        },
        "id": "91CKRSZxkxv6",
        "outputId": "bcdcd2e0-9c61-4893-b58a-e08484430b54"
      },
      "execution_count": null,
      "outputs": [
        {
          "output_type": "stream",
          "name": "stdout",
          "text": [
            "32/32 [==============================] - 260s 8s/step\n"
          ]
        }
      ]
    },
    {
      "cell_type": "code",
      "source": [
        "import numpy as np\n",
        "y_temp = y_pred\n",
        "\n",
        "y_temp_reshaped = y_temp.reshape((1000, ))\n",
        "\n",
        "print(y_temp_reshaped.shape)\n",
        "\n",
        "y_temp_tolist = y_temp_reshaped\n",
        "\n",
        "y_temp_tolist = y_temp_tolist.tolist()\n",
        "\n",
        "print(type(y_temp_tolist))\n",
        "\n",
        "for i, prediction in enumerate(y_temp_tolist):\n",
        "    if prediction >= 0.5:\n",
        "        y_temp_tolist[i] = 1\n",
        "    else:\n",
        "        y_temp_tolist[i] = 0\n",
        "\n",
        "print(y_temp_tolist[5])"
      ],
      "metadata": {
        "id": "_h5QMWzfYypv",
        "colab": {
          "base_uri": "https://localhost:8080/"
        },
        "outputId": "0db637e5-0149-451a-ff20-56e93e92ad31"
      },
      "execution_count": null,
      "outputs": [
        {
          "output_type": "stream",
          "name": "stdout",
          "text": [
            "(1000,)\n",
            "<class 'list'>\n",
            "0\n"
          ]
        }
      ]
    },
    {
      "cell_type": "code",
      "source": [
        "y_pred_normalized = np.array(y_temp_tolist)\n",
        "print(type(y_pred_normalized))\n",
        "print(y_pred_normalized.shape)\n",
        "print(y_pred_normalized)"
      ],
      "metadata": {
        "id": "t4jYj79mL034"
      },
      "execution_count": null,
      "outputs": []
    },
    {
      "cell_type": "code",
      "source": [
        "from sklearn.metrics import confusion_matrix\n",
        "import seaborn as sns\n",
        "import matplotlib.pyplot as plt\n",
        "\n",
        "cm = confusion_matrix(y_test, y_pred_normalized)\n",
        "\n",
        "# Plot the confusion matrix\n",
        "\n",
        "plt.figure(figsize=(10, 8))\n",
        "sns.heatmap(cm, annot=True, fmt='d', cmap='Blues')\n",
        "plt.xlabel('Predicted Labels')\n",
        "plt.ylabel('True Labels')\n",
        "plt.title('Confusion Matrix')\n",
        "plt.show()"
      ],
      "metadata": {
        "colab": {
          "base_uri": "https://localhost:8080/",
          "height": 718
        },
        "id": "oa4JeFCtlF5g",
        "outputId": "f1d4deb1-3057-4644-dc04-8b83e9c0ad58"
      },
      "execution_count": null,
      "outputs": [
        {
          "output_type": "display_data",
          "data": {
            "text/plain": [
              "<Figure size 1000x800 with 2 Axes>"
            ],
            "image/png": "[encoded data removed]"
          },
          "metadata": {}
        }
      ]
    },
    {
      "cell_type": "code",
      "source": [
        "print(cm)"
      ],
      "metadata": {
        "id": "vfHuZebGmX_N",
        "colab": {
          "base_uri": "https://localhost:8080/"
        },
        "outputId": "eb67aaac-e274-470e-b125-5329933d1c19"
      },
      "execution_count": null,
      "outputs": [
        {
          "output_type": "stream",
          "name": "stdout",
          "text": [
            "[[487  13]\n",
            " [ 19 481]]\n"
          ]
        }
      ]
    }
  ]
}
