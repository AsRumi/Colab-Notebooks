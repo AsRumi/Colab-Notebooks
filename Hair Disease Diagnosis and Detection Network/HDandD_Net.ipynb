{
  "nbformat": 4,
  "nbformat_minor": 0,
  "metadata": {
    "colab": {
      "provenance": [],
      "gpuType": "T4"
    },
    "kernelspec": {
      "name": "python3",
      "display_name": "Python 3"
    },
    "language_info": {
      "name": "python"
    },
    "accelerator": "GPU",
    "gpuClass": "standard"
  },
  "cells": [
    {
      "cell_type": "code",
      "execution_count": null,
      "metadata": {
        "colab": {
          "base_uri": "https://localhost:8080/"
        },
        "id": "S8OR6Vk00XPn",
        "outputId": "ef6ff2c0-f667-4d59-863d-199eeb1f4499"
      },
      "outputs": [
        {
          "output_type": "stream",
          "name": "stdout",
          "text": [
            "Mounted at /content/drive\n"
          ]
        }
      ],
      "source": [
        "import os\n",
        "from google.colab import drive\n",
        "drive.mount('/content/drive')"
      ]
    },
    {
      "cell_type": "code",
      "source": [
        "main_dir = '/content/drive/MyDrive/HDandD Datatset/Hair Diseases - Final'"
      ],
      "metadata": {
        "id": "oWoOhqtV0e7j"
      },
      "execution_count": null,
      "outputs": []
    },
    {
      "cell_type": "code",
      "source": [
        "test_dir = os.path.join(main_dir, 'test')\n",
        "train_dir = os.path.join(main_dir, 'train')\n",
        "val_dir = os.path.join(main_dir, 'val')"
      ],
      "metadata": {
        "id": "BBqhk-oN1Skc"
      },
      "execution_count": null,
      "outputs": []
    },
    {
      "cell_type": "code",
      "source": [
        "AA_dir = os.path.join(train_dir, 'Alopecia Areata')\n",
        "CD_dir = os.path.join(train_dir, 'Contact Dermatitis')\n",
        "F_dir = os.path.join(train_dir, 'Folliculitis')\n",
        "HL_dir = os.path.join(train_dir, 'Head Lice')\n",
        "LP_dir = os.path.join(train_dir, 'Lichen Planus')\n",
        "MPB_dir = os.path.join(train_dir, 'Male Pattern Baldness')\n",
        "P_dir = os.path.join(train_dir, 'Psoriasis')\n",
        "SD_dir = os.path.join(train_dir, 'Seborrheic Dermatitis')\n",
        "TE_dir = os.path.join(train_dir, 'Telogen Effluvium')\n",
        "TC_dir = os.path.join(train_dir, 'Tinea Capitis')"
      ],
      "metadata": {
        "id": "ZyfUt9z71tc3"
      },
      "execution_count": null,
      "outputs": []
    },
    {
      "cell_type": "code",
      "source": [
        "print(f'First ten contents of Alopecia Areata are: \\n {os.listdir(AA_dir)[0:10]}')"
      ],
      "metadata": {
        "colab": {
          "base_uri": "https://localhost:8080/"
        },
        "id": "IjpKCz9P26bu",
        "outputId": "65479621-4ae7-4062-e912-fdeec5127357"
      },
      "execution_count": null,
      "outputs": [
        {
          "output_type": "stream",
          "name": "stdout",
          "text": [
            "First ten contents of Alopecia Areata are: \n",
            " ['AA_2.jpg', 'AA_3.jpg', 'AA_1.jpg', 'AA_4.jpg', 'AA_7.jpg', 'AA_117.jpg', 'AA_31.jpg', 'AA_105.jpg', 'AA_15.jpg', 'AA_41.jpg']\n"
          ]
        }
      ]
    },
    {
      "cell_type": "markdown",
      "source": [
        "# Vanilla Model - HDandD Net"
      ],
      "metadata": {
        "id": "uKsw8gazD3RN"
      }
    },
    {
      "cell_type": "code",
      "source": [
        "from keras.models import Sequential\n",
        "from keras.layers import Conv2D, Dense, Dropout, MaxPooling2D, Flatten\n",
        "from tensorflow.keras.optimizers import Adam\n",
        "\n",
        "model_gs = Sequential()\n",
        "model_gs.add(Conv2D(32, kernel_size = 3, input_shape = (150, 150, 1), activation = 'relu'))\n",
        "model_gs.add(MaxPooling2D(2,2))\n",
        "model_gs.add(Conv2D(64, (3,3), activation = 'relu'))\n",
        "model_gs.add(MaxPooling2D(2,2))\n",
        "model_gs.add(Conv2D(128, (3,3), activation = 'relu'))\n",
        "model_gs.add(MaxPooling2D(2,2))\n",
        "model_gs.add(Conv2D(128, (3,3), activation = 'relu'))\n",
        "model_gs.add(MaxPooling2D(2,2))\n",
        "model_gs.add(Flatten())\n",
        "model_gs.add(Dropout(0.2))\n",
        "model_gs.add(Dense(512, activation = 'relu'))\n",
        "model_gs.add(Dense(10, activation = 'softmax'))\n",
        "\n",
        "model_gs.compile(loss = 'categorical_crossentropy',\n",
        "                 optimizer = Adam(),\n",
        "                 metrics = ['acc'])"
      ],
      "metadata": {
        "id": "FGld6I4M3Qyx"
      },
      "execution_count": null,
      "outputs": []
    },
    {
      "cell_type": "code",
      "source": [
        "from keras.preprocessing.image import ImageDataGenerator as IDG\n",
        "\n",
        "train_datagenerator = IDG(rescale = 1./255)\n",
        "test_datagenerator = IDG(rescale = 1./255)\n",
        "\n",
        "train_generator = train_datagenerator.flow_from_directory(train_dir,\n",
        "                                                          target_size = (150, 150),\n",
        "                                                          batch_size = 50,\n",
        "                                                          class_mode = 'categorical',\n",
        "                                                          color_mode = 'grayscale')\n",
        "\n",
        "valid_generator = test_datagenerator.flow_from_directory(test_dir,\n",
        "                                                         target_size = (150, 150),\n",
        "                                                         batch_size = 50,\n",
        "                                                         class_mode = 'categorical',\n",
        "                                                         color_mode = 'grayscale')"
      ],
      "metadata": {
        "colab": {
          "base_uri": "https://localhost:8080/"
        },
        "id": "lcjtBCsw4q8M",
        "outputId": "6cf9bc6a-dffb-42bb-e1e0-1f93337ba696"
      },
      "execution_count": null,
      "outputs": [
        {
          "output_type": "stream",
          "name": "stdout",
          "text": [
            "Found 5000 images belonging to 10 classes.\n",
            "Found 1200 images belonging to 10 classes.\n"
          ]
        }
      ]
    },
    {
      "cell_type": "code",
      "source": [
        "# Sanity check\n",
        "for data_batch, labels_batch in train_generator:\n",
        "    print('data_batch shape: ', data_batch.shape)\n",
        "    print('labels_batch shape', labels_batch.shape)\n",
        "    break"
      ],
      "metadata": {
        "colab": {
          "base_uri": "https://localhost:8080/"
        },
        "id": "OcgWhfpYA_m4",
        "outputId": "767305b1-8cac-411f-89ef-1f5964f3c11e"
      },
      "execution_count": null,
      "outputs": [
        {
          "output_type": "stream",
          "name": "stdout",
          "text": [
            "data_batch shape:  (50, 150, 150, 1)\n",
            "labels_batch shape (50, 10)\n"
          ]
        }
      ]
    },
    {
      "cell_type": "code",
      "source": [
        "history = model_gs.fit(train_generator,\n",
        "                       epochs = 30,\n",
        "                       validation_data = valid_generator)"
      ],
      "metadata": {
        "colab": {
          "base_uri": "https://localhost:8080/"
        },
        "id": "EBizVVG-Bsrv",
        "outputId": "e4d0cd13-2c17-4ee9-f1b9-1315f7e7d422",
        "collapsed": true
      },
      "execution_count": null,
      "outputs": [
        {
          "output_type": "stream",
          "name": "stdout",
          "text": [
            "Epoch 1/30\n",
            "100/100 [==============================] - 3318s 33s/step - loss: 1.9347 - acc: 0.2982 - val_loss: 1.5829 - val_acc: 0.4375\n",
            "Epoch 2/30\n",
            "100/100 [==============================] - 45s 452ms/step - loss: 1.3263 - acc: 0.5258 - val_loss: 1.1331 - val_acc: 0.6225\n",
            "Epoch 3/30\n",
            "100/100 [==============================] - 46s 460ms/step - loss: 0.8646 - acc: 0.6952 - val_loss: 0.8250 - val_acc: 0.7158\n",
            "Epoch 4/30\n",
            "100/100 [==============================] - 45s 447ms/step - loss: 0.5285 - acc: 0.8248 - val_loss: 0.6698 - val_acc: 0.8033\n",
            "Epoch 5/30\n",
            "100/100 [==============================] - 44s 445ms/step - loss: 0.3341 - acc: 0.8882 - val_loss: 0.5352 - val_acc: 0.8550\n",
            "Epoch 6/30\n",
            "100/100 [==============================] - 45s 449ms/step - loss: 0.2761 - acc: 0.9070 - val_loss: 0.5420 - val_acc: 0.8500\n",
            "Epoch 7/30\n",
            "100/100 [==============================] - 48s 480ms/step - loss: 0.1773 - acc: 0.9412 - val_loss: 0.6012 - val_acc: 0.8675\n",
            "Epoch 8/30\n",
            "100/100 [==============================] - 45s 450ms/step - loss: 0.1291 - acc: 0.9600 - val_loss: 0.5687 - val_acc: 0.8758\n",
            "Epoch 9/30\n",
            "100/100 [==============================] - 45s 450ms/step - loss: 0.1409 - acc: 0.9560 - val_loss: 0.4983 - val_acc: 0.8750\n",
            "Epoch 10/30\n",
            "100/100 [==============================] - 48s 481ms/step - loss: 0.0724 - acc: 0.9770 - val_loss: 0.6247 - val_acc: 0.8658\n",
            "Epoch 11/30\n",
            "100/100 [==============================] - 46s 463ms/step - loss: 0.0831 - acc: 0.9764 - val_loss: 0.3920 - val_acc: 0.9025\n",
            "Epoch 12/30\n",
            "100/100 [==============================] - 45s 453ms/step - loss: 0.0416 - acc: 0.9872 - val_loss: 0.4561 - val_acc: 0.9108\n",
            "Epoch 13/30\n",
            "100/100 [==============================] - 45s 452ms/step - loss: 0.0191 - acc: 0.9944 - val_loss: 0.4643 - val_acc: 0.9183\n",
            "Epoch 14/30\n",
            "100/100 [==============================] - 44s 445ms/step - loss: 0.0670 - acc: 0.9804 - val_loss: 0.4281 - val_acc: 0.9075\n",
            "Epoch 15/30\n",
            "100/100 [==============================] - 48s 479ms/step - loss: 0.0346 - acc: 0.9910 - val_loss: 0.4604 - val_acc: 0.9150\n",
            "Epoch 16/30\n",
            "100/100 [==============================] - 44s 442ms/step - loss: 0.0454 - acc: 0.9850 - val_loss: 0.6273 - val_acc: 0.8958\n",
            "Epoch 17/30\n",
            "100/100 [==============================] - 45s 449ms/step - loss: 0.0956 - acc: 0.9758 - val_loss: 0.3891 - val_acc: 0.9133\n",
            "Epoch 18/30\n",
            "100/100 [==============================] - 44s 442ms/step - loss: 0.0233 - acc: 0.9944 - val_loss: 0.4913 - val_acc: 0.9083\n",
            "Epoch 19/30\n",
            "100/100 [==============================] - 47s 472ms/step - loss: 0.0415 - acc: 0.9878 - val_loss: 0.4969 - val_acc: 0.9208\n",
            "Epoch 20/30\n",
            "100/100 [==============================] - 44s 437ms/step - loss: 0.0437 - acc: 0.9878 - val_loss: 0.4929 - val_acc: 0.9133\n",
            "Epoch 21/30\n",
            "100/100 [==============================] - 44s 437ms/step - loss: 0.0227 - acc: 0.9948 - val_loss: 0.6161 - val_acc: 0.9100\n",
            "Epoch 22/30\n",
            "100/100 [==============================] - 44s 442ms/step - loss: 0.0434 - acc: 0.9892 - val_loss: 0.6100 - val_acc: 0.8958\n",
            "Epoch 23/30\n",
            "100/100 [==============================] - 48s 478ms/step - loss: 0.1073 - acc: 0.9680 - val_loss: 0.5720 - val_acc: 0.8867\n",
            "Epoch 24/30\n",
            "100/100 [==============================] - 44s 439ms/step - loss: 0.0419 - acc: 0.9880 - val_loss: 0.4518 - val_acc: 0.9100\n",
            "Epoch 25/30\n",
            "100/100 [==============================] - 44s 442ms/step - loss: 0.0158 - acc: 0.9966 - val_loss: 0.5388 - val_acc: 0.9058\n",
            "Epoch 26/30\n",
            "100/100 [==============================] - 44s 444ms/step - loss: 0.0041 - acc: 0.9992 - val_loss: 0.4224 - val_acc: 0.9283\n",
            "Epoch 27/30\n",
            "100/100 [==============================] - 48s 479ms/step - loss: 0.0273 - acc: 0.9924 - val_loss: 0.4660 - val_acc: 0.9083\n",
            "Epoch 28/30\n",
            "100/100 [==============================] - 45s 446ms/step - loss: 0.0369 - acc: 0.9892 - val_loss: 0.5814 - val_acc: 0.9075\n",
            "Epoch 29/30\n",
            "100/100 [==============================] - 44s 443ms/step - loss: 0.0288 - acc: 0.9912 - val_loss: 0.4409 - val_acc: 0.9250\n",
            "Epoch 30/30\n",
            "100/100 [==============================] - 44s 445ms/step - loss: 0.0392 - acc: 0.9884 - val_loss: 0.6596 - val_acc: 0.8792\n"
          ]
        }
      ]
    },
    {
      "cell_type": "code",
      "source": [
        "import matplotlib.pyplot as plt\n",
        "\n",
        "history_dict = history.history\n",
        "loss_values = history_dict['loss']\n",
        "val_loss_values = history_dict['val_loss']\n",
        "epochs = range(1, len(loss_values) + 1)\n",
        "\n",
        "plt.plot(epochs, loss_values, 'bo', label = 'Training Loss')\n",
        "plt.plot(epochs, val_loss_values, 'b', label = 'Validation Loss')\n",
        "plt.title('Training and Validation Loss')\n",
        "plt.xlabel('EPOCHS')\n",
        "plt.ylabel('LOSS')\n",
        "plt.legend()\n",
        "plt.show()"
      ],
      "metadata": {
        "id": "mtnSNNyHCRbv",
        "colab": {
          "base_uri": "https://localhost:8080/",
          "height": 472
        },
        "collapsed": true,
        "outputId": "ac099ae9-a006-48d4-9c88-5a704f98a80d"
      },
      "execution_count": null,
      "outputs": [
        {
          "output_type": "display_data",
          "data": {
            "text/plain": [
              "<Figure size 640x480 with 1 Axes>"
            ],
            "image/png": "[encoded data removed]"
          },
          "metadata": {}
        }
      ]
    },
    {
      "cell_type": "code",
      "source": [
        "acc_values = history_dict['acc']\n",
        "val_acc_values = history_dict['val_acc']\n",
        "epochs = range(1, len(acc_values) + 1)\n",
        "\n",
        "plt.plot(epochs, acc_values, 'bo', label = 'Training Accuracy')\n",
        "plt.plot(epochs, val_acc_values, 'b', label = 'Validation Accuracy')\n",
        "plt.title('Training and Validation Accuracy')\n",
        "plt.xlabel('EPOCHS')\n",
        "plt.ylabel('ACCURACY')\n",
        "plt.legend()\n",
        "plt.show()"
      ],
      "metadata": {
        "colab": {
          "base_uri": "https://localhost:8080/",
          "height": 472
        },
        "id": "KsfuMFUb_gdB",
        "outputId": "c052856f-36ed-49c3-8f3c-15fdba85037e"
      },
      "execution_count": null,
      "outputs": [
        {
          "output_type": "display_data",
          "data": {
            "text/plain": [
              "<Figure size 640x480 with 1 Axes>"
            ],
            "image/png": "[encoded data removed]"
          },
          "metadata": {}
        }
      ]
    },
    {
      "cell_type": "code",
      "source": [
        "test_generator = test_datagenerator.flow_from_directory(test_dir,\n",
        "                                                        target_size = (150,150),\n",
        "                                                        batch_size = 50,\n",
        "                                                        class_mode = 'categorical',\n",
        "                                                        color_mode = 'grayscale')"
      ],
      "metadata": {
        "colab": {
          "base_uri": "https://localhost:8080/"
        },
        "id": "BIpeZXfpEg6z",
        "outputId": "b680d373-4c90-431e-f291-5984ecd6d480"
      },
      "execution_count": null,
      "outputs": [
        {
          "output_type": "stream",
          "name": "stdout",
          "text": [
            "Found 1200 images belonging to 10 classes.\n"
          ]
        }
      ]
    },
    {
      "cell_type": "code",
      "source": [
        "test_loss, test_acc = model_gs.evaluate(test_generator)"
      ],
      "metadata": {
        "colab": {
          "base_uri": "https://localhost:8080/"
        },
        "id": "tE2o6mwRB1DR",
        "outputId": "5eed14b1-9a75-4ba2-efd8-9d07334dc5b6"
      },
      "execution_count": null,
      "outputs": [
        {
          "output_type": "stream",
          "name": "stdout",
          "text": [
            "24/24 [==============================] - 8s 324ms/step - loss: 0.6596 - acc: 0.8792\n"
          ]
        }
      ]
    },
    {
      "cell_type": "code",
      "source": [
        "model_gs.save(\"HDandD Net - Vanilla.h5\")"
      ],
      "metadata": {
        "id": "zMO4uYoTGEIy"
      },
      "execution_count": null,
      "outputs": []
    },
    {
      "cell_type": "markdown",
      "source": [
        "# VGG19"
      ],
      "metadata": {
        "id": "pyCLYzwD-NGU"
      }
    },
    {
      "cell_type": "code",
      "source": [
        "vgg_train_generator = train_datagenerator.flow_from_directory(train_dir,\n",
        "                                                        target_size = (150,150),\n",
        "                                                        batch_size = 50,\n",
        "                                                        class_mode = 'categorical')\n",
        "\n",
        "vgg_valid_generator = test_datagenerator.flow_from_directory(val_dir,\n",
        "                                                        target_size = (150,150),\n",
        "                                                        batch_size = 50,\n",
        "                                                        class_mode = 'categorical')\n",
        "\n",
        "vgg_test_generator = test_datagenerator.flow_from_directory(test_dir,\n",
        "                                                        target_size = (150,150),\n",
        "                                                        batch_size = 50,\n",
        "                                                        class_mode = 'categorical')"
      ],
      "metadata": {
        "colab": {
          "base_uri": "https://localhost:8080/"
        },
        "id": "KW61eeOT-jsn",
        "outputId": "3236a461-ab00-4797-8f2d-a7f1fcb6ceb1"
      },
      "execution_count": null,
      "outputs": [
        {
          "output_type": "stream",
          "name": "stdout",
          "text": [
            "Found 5000 images belonging to 10 classes.\n",
            "Found 1200 images belonging to 10 classes.\n",
            "Found 1200 images belonging to 10 classes.\n"
          ]
        }
      ]
    },
    {
      "cell_type": "code",
      "source": [
        "from keras.applications import VGG19\n",
        "\n",
        "vgg_base = VGG19(weights = 'imagenet',\n",
        "                 include_top = False,\n",
        "                 input_shape = (150,150,3))"
      ],
      "metadata": {
        "id": "UM8nJ1vjIYH7",
        "colab": {
          "base_uri": "https://localhost:8080/"
        },
        "outputId": "3e746033-daf7-4650-c969-a8736d3b3b14"
      },
      "execution_count": null,
      "outputs": [
        {
          "output_type": "stream",
          "name": "stdout",
          "text": [
            "Downloading data from https://storage.googleapis.com/tensorflow/keras-applications/vgg19/vgg19_weights_tf_dim_ordering_tf_kernels_notop.h5\n",
            "80134624/80134624 [==============================] - 5s 0us/step\n"
          ]
        }
      ]
    },
    {
      "cell_type": "code",
      "source": [
        "from keras.models import Sequential\n",
        "from keras.layers import Flatten, Dense\n",
        "from keras.optimizers import Adam\n",
        "\n",
        "vgg_model = Sequential()\n",
        "vgg_model.add(vgg_base)\n",
        "vgg_model.add(Flatten())\n",
        "vgg_model.add(Dense(10, activation = 'softmax'))\n",
        "vgg_model.summary()\n",
        "\n",
        "print(f'Trainable weights before freezing: {len(vgg_model.trainable_weights)}')\n",
        "vgg_base.trainable = False\n",
        "print(f'Trainable weights after freezing: {len(vgg_model.trainable_weights)}')\n",
        "\n",
        "vgg_model.compile(optimizer = Adam(),\n",
        "                  loss = 'categorical_crossentropy',\n",
        "                  metrics = ['acc'])"
      ],
      "metadata": {
        "colab": {
          "base_uri": "https://localhost:8080/"
        },
        "id": "hCIdyiRn-I3l",
        "outputId": "04898be3-a9c8-4f05-9f7b-72ecbac5c9d5"
      },
      "execution_count": null,
      "outputs": [
        {
          "output_type": "stream",
          "name": "stdout",
          "text": [
            "Model: \"sequential_5\"\n",
            "_________________________________________________________________\n",
            " Layer (type)                Output Shape              Param #   \n",
            "=================================================================\n",
            " vgg19 (Functional)          (None, 4, 4, 512)         20024384  \n",
            "                                                                 \n",
            " flatten_4 (Flatten)         (None, 8192)              0         \n",
            "                                                                 \n",
            " dense_4 (Dense)             (None, 10)                81930     \n",
            "                                                                 \n",
            "=================================================================\n",
            "Total params: 20,106,314\n",
            "Trainable params: 20,106,314\n",
            "Non-trainable params: 0\n",
            "_________________________________________________________________\n",
            "Trainable weights before freezing: 34\n",
            "Trainable weights after freezing: 2\n"
          ]
        }
      ]
    },
    {
      "cell_type": "code",
      "source": [
        "history_vgg = vgg_model.fit(vgg_train_generator,\n",
        "                            steps_per_epoch = 25,\n",
        "                            epochs = 30,\n",
        "                            validation_data = vgg_valid_generator,\n",
        "                            validation_steps = 25)"
      ],
      "metadata": {
        "colab": {
          "base_uri": "https://localhost:8080/"
        },
        "collapsed": true,
        "id": "V_-FDaZjAbD-",
        "outputId": "ae9d460b-c3c5-4144-b2f7-6fcdfb197efe"
      },
      "execution_count": null,
      "outputs": [
        {
          "output_type": "stream",
          "name": "stdout",
          "text": [
            "Epoch 1/30\n",
            "25/25 [==============================] - ETA: 0s - loss: 1.9624 - acc: 0.3248 "
          ]
        },
        {
          "output_type": "stream",
          "name": "stderr",
          "text": [
            "WARNING:tensorflow:Your input ran out of data; interrupting training. Make sure that your dataset or generator can generate at least `steps_per_epoch * epochs` batches (in this case, 25 batches). You may need to use the repeat() function when building your dataset.\n"
          ]
        },
        {
          "output_type": "stream",
          "name": "stdout",
          "text": [
            "\b\b\b\b\b\b\b\b\b\b\b\b\b\b\b\b\b\b\b\b\b\b\b\b\b\b\b\b\b\b\b\b\b\b\b\b\b\b\b\b\b\b\b\b\b\b\b\b\b\b\b\b\b\b\b\b\b\b\b\b\b\b\b\b\b\b\b\b\b\b\b\b\b\b\b\b\b\r25/25 [==============================] - 1605s 66s/step - loss: 1.9624 - acc: 0.3248 - val_loss: 1.5802 - val_acc: 0.4350\n",
            "Epoch 2/30\n",
            "25/25 [==============================] - 581s 23s/step - loss: 1.3340 - acc: 0.5640\n",
            "Epoch 3/30\n",
            "25/25 [==============================] - 434s 17s/step - loss: 1.0856 - acc: 0.6632\n",
            "Epoch 4/30\n",
            "25/25 [==============================] - 318s 13s/step - loss: 0.9674 - acc: 0.7048\n",
            "Epoch 5/30\n",
            "25/25 [==============================] - 224s 9s/step - loss: 0.7917 - acc: 0.7880\n",
            "Epoch 6/30\n",
            "25/25 [==============================] - 180s 7s/step - loss: 0.6827 - acc: 0.8296\n",
            "Epoch 7/30\n",
            "25/25 [==============================] - 143s 6s/step - loss: 0.6304 - acc: 0.8448\n",
            "Epoch 8/30\n",
            "25/25 [==============================] - 96s 4s/step - loss: 0.5367 - acc: 0.8856\n",
            "Epoch 9/30\n",
            "25/25 [==============================] - 83s 3s/step - loss: 0.5274 - acc: 0.8864\n",
            "Epoch 10/30\n",
            "25/25 [==============================] - 55s 2s/step - loss: 0.4723 - acc: 0.9000\n",
            "Epoch 11/30\n",
            "25/25 [==============================] - 48s 2s/step - loss: 0.4618 - acc: 0.8944\n",
            "Epoch 12/30\n",
            "25/25 [==============================] - 41s 2s/step - loss: 0.3872 - acc: 0.9208\n",
            "Epoch 13/30\n",
            "25/25 [==============================] - 33s 1s/step - loss: 0.3919 - acc: 0.9184\n",
            "Epoch 14/30\n",
            "25/25 [==============================] - 26s 1s/step - loss: 0.3710 - acc: 0.9288\n",
            "Epoch 15/30\n",
            "25/25 [==============================] - 22s 856ms/step - loss: 0.3300 - acc: 0.9296\n",
            "Epoch 16/30\n",
            "25/25 [==============================] - 17s 674ms/step - loss: 0.2818 - acc: 0.9624\n",
            "Epoch 17/30\n",
            "25/25 [==============================] - 19s 758ms/step - loss: 0.2694 - acc: 0.9640\n",
            "Epoch 18/30\n",
            "25/25 [==============================] - 15s 562ms/step - loss: 0.2681 - acc: 0.9584\n",
            "Epoch 19/30\n",
            "25/25 [==============================] - 11s 429ms/step - loss: 0.2421 - acc: 0.9640\n",
            "Epoch 20/30\n",
            "25/25 [==============================] - 14s 548ms/step - loss: 0.2514 - acc: 0.9576\n",
            "Epoch 21/30\n",
            "25/25 [==============================] - 11s 423ms/step - loss: 0.2257 - acc: 0.9664\n",
            "Epoch 22/30\n",
            "25/25 [==============================] - 10s 417ms/step - loss: 0.2183 - acc: 0.9648\n",
            "Epoch 23/30\n",
            "25/25 [==============================] - 10s 397ms/step - loss: 0.2175 - acc: 0.9696\n",
            "Epoch 24/30\n",
            "25/25 [==============================] - 9s 355ms/step - loss: 0.2174 - acc: 0.9704\n",
            "Epoch 25/30\n",
            "25/25 [==============================] - 10s 418ms/step - loss: 0.1977 - acc: 0.9776\n",
            "Epoch 26/30\n",
            "25/25 [==============================] - 10s 380ms/step - loss: 0.1855 - acc: 0.9752\n",
            "Epoch 27/30\n",
            "25/25 [==============================] - 9s 344ms/step - loss: 0.1618 - acc: 0.9792\n",
            "Epoch 28/30\n",
            "25/25 [==============================] - 10s 387ms/step - loss: 0.1589 - acc: 0.9832\n",
            "Epoch 29/30\n",
            "25/25 [==============================] - 10s 410ms/step - loss: 0.1555 - acc: 0.9824\n",
            "Epoch 30/30\n",
            "25/25 [==============================] - 9s 346ms/step - loss: 0.1465 - acc: 0.9848\n"
          ]
        }
      ]
    },
    {
      "cell_type": "code",
      "source": [
        "vgg_test_loss, vgg_test_acc = vgg_model.evaluate(vgg_test_generator)"
      ],
      "metadata": {
        "colab": {
          "base_uri": "https://localhost:8080/"
        },
        "collapsed": true,
        "id": "XTTfgHmp-422",
        "outputId": "f1e2faac-6bd5-42f3-efe2-6ae97272df45"
      },
      "execution_count": null,
      "outputs": [
        {
          "output_type": "stream",
          "name": "stdout",
          "text": [
            "24/24 [==============================] - 601s 26s/step - loss: 0.2787 - acc: 0.9350\n"
          ]
        }
      ]
    },
    {
      "cell_type": "code",
      "source": [
        "vgg_model.save('VGG Model - HDandD Net.h5')"
      ],
      "metadata": {
        "id": "HkV7aLQD_v2e"
      },
      "execution_count": null,
      "outputs": []
    },
    {
      "cell_type": "code",
      "source": [
        "import matplotlib.pyplot as plt\n",
        "\n",
        "history_dict = history_vgg.history\n",
        "\n",
        "acc_values = history_dict['acc']\n",
        "loss_values = history_dict['loss']\n",
        "epochs = range(1, len(acc_values) + 1)\n",
        "\n",
        "plt.plot(epochs, acc_values, 'bo', label = 'Training Accuracy')\n",
        "plt.plot(epochs, loss_values, 'b', label = 'Training Loss')\n",
        "plt.title('Training Accuracy and Loss')\n",
        "plt.xlabel('EPOCHS')\n",
        "plt.ylabel('METRICS')\n",
        "plt.legend()\n",
        "plt.show()"
      ],
      "metadata": {
        "colab": {
          "base_uri": "https://localhost:8080/",
          "height": 472
        },
        "id": "UCCgGwOZbbvH",
        "outputId": "9e66bed8-91e3-4c56-e356-8053b539930e"
      },
      "execution_count": null,
      "outputs": [
        {
          "output_type": "display_data",
          "data": {
            "text/plain": [
              "<Figure size 640x480 with 1 Axes>"
            ],
            "image/png": "[encoded data removed]"
          },
          "metadata": {}
        }
      ]
    },
    {
      "cell_type": "markdown",
      "source": [
        "# InceptionNet V3"
      ],
      "metadata": {
        "id": "27jR4qXi66GB"
      }
    },
    {
      "cell_type": "code",
      "source": [
        "from keras.applications import InceptionV3\n",
        "\n",
        "incep_base = InceptionV3(weights = 'imagenet',\n",
        "                         include_top = False,\n",
        "                         input_shape = (150,150, 3))"
      ],
      "metadata": {
        "id": "F2DgxTJJb8R-",
        "colab": {
          "base_uri": "https://localhost:8080/"
        },
        "outputId": "d497b083-39dc-4423-f607-8a7fca18b23c"
      },
      "execution_count": null,
      "outputs": [
        {
          "output_type": "stream",
          "name": "stdout",
          "text": [
            "Downloading data from https://storage.googleapis.com/tensorflow/keras-applications/inception_v3/inception_v3_weights_tf_dim_ordering_tf_kernels_notop.h5\n",
            "87910968/87910968 [==============================] - 0s 0us/step\n"
          ]
        }
      ]
    },
    {
      "cell_type": "code",
      "source": [
        "from keras.models import Sequential\n",
        "from keras.layers import Dense, Dropout, Flatten\n",
        "from keras.optimizers import optimizer\n",
        "\n",
        "incep_model = Sequential()\n",
        "incep_model.add(incep_base)\n",
        "incep_model.add(Flatten())\n",
        "incep_model.add(Dense(512, activation = 'relu'))\n",
        "incep_model.add(Dropout(0.2))\n",
        "incep_model.add(Dense(128, activation = 'relu'))\n",
        "incep_model.add(Dropout(0.2))\n",
        "incep_model.add(Dense(10, activation = 'softmax'))\n",
        "print(f'The number of trainable weights before freezing the base = {len(incep_model.trainable_weights)}')\n",
        "incep_base.trainable = False\n",
        "print(f'The number of trainable weights after freezing the base = {len(incep_model.trainable_weights)}')"
      ],
      "metadata": {
        "colab": {
          "base_uri": "https://localhost:8080/"
        },
        "id": "UI1gIcT25667",
        "outputId": "c2846017-1865-445b-c09e-cc9de55990af"
      },
      "execution_count": null,
      "outputs": [
        {
          "output_type": "stream",
          "name": "stdout",
          "text": [
            "The number of trainable weights before freezing the base = 194\n",
            "The number of trainable weights after freezing the base = 6\n"
          ]
        }
      ]
    },
    {
      "cell_type": "code",
      "source": [
        "incep_model.summary()"
      ],
      "metadata": {
        "colab": {
          "base_uri": "https://localhost:8080/"
        },
        "id": "1nS0AOrN7fVp",
        "outputId": "192ce9d3-4182-4b75-e066-214ff4d3a101"
      },
      "execution_count": null,
      "outputs": [
        {
          "output_type": "stream",
          "name": "stdout",
          "text": [
            "Model: \"sequential_7\"\n",
            "_________________________________________________________________\n",
            " Layer (type)                Output Shape              Param #   \n",
            "=================================================================\n",
            " inception_v3 (Functional)   (None, 3, 3, 2048)        21802784  \n",
            "                                                                 \n",
            " flatten_5 (Flatten)         (None, 18432)             0         \n",
            "                                                                 \n",
            " dense_15 (Dense)            (None, 512)               9437696   \n",
            "                                                                 \n",
            " dropout_10 (Dropout)        (None, 512)               0         \n",
            "                                                                 \n",
            " dense_16 (Dense)            (None, 128)               65664     \n",
            "                                                                 \n",
            " dropout_11 (Dropout)        (None, 128)               0         \n",
            "                                                                 \n",
            " dense_17 (Dense)            (None, 10)                1290      \n",
            "                                                                 \n",
            "=================================================================\n",
            "Total params: 31,307,434\n",
            "Trainable params: 9,504,650\n",
            "Non-trainable params: 21,802,784\n",
            "_________________________________________________________________\n"
          ]
        }
      ]
    },
    {
      "cell_type": "code",
      "source": [
        "from keras.preprocessing.image import ImageDataGenerator as IDG\n",
        "\n",
        "train_datagenerator = IDG(rescale = 1./255)\n",
        "test_datagenerator = IDG(rescale = 1./255)\n",
        "\n",
        "incep_train_generator = train_datagenerator.flow_from_directory(train_dir,\n",
        "                                                        target_size = (150,150),\n",
        "                                                        batch_size = 50,\n",
        "                                                        class_mode = 'categorical')\n",
        "\n",
        "incep_valid_generator = test_datagenerator.flow_from_directory(val_dir,\n",
        "                                                        target_size = (150,150),\n",
        "                                                        batch_size = 50,\n",
        "                                                        class_mode = 'categorical')\n",
        "\n",
        "incep_test_generator = test_datagenerator.flow_from_directory(test_dir,\n",
        "                                                        target_size = (150,150),\n",
        "                                                        batch_size = 50,\n",
        "                                                        class_mode = 'categorical')"
      ],
      "metadata": {
        "colab": {
          "base_uri": "https://localhost:8080/"
        },
        "id": "kww_4c_S71N2",
        "outputId": "d09174e3-bd64-4fc2-91bd-4f0cf62f0a61"
      },
      "execution_count": null,
      "outputs": [
        {
          "output_type": "stream",
          "name": "stdout",
          "text": [
            "Found 5000 images belonging to 10 classes.\n",
            "Found 1200 images belonging to 10 classes.\n",
            "Found 1200 images belonging to 10 classes.\n"
          ]
        }
      ]
    },
    {
      "cell_type": "code",
      "source": [
        "from keras.optimizers import Adam\n",
        "incep_model.compile(optimizer = Adam(),\n",
        "                    loss = 'categorical_crossentropy',\n",
        "                    metrics = ['acc'])"
      ],
      "metadata": {
        "id": "H3dWw3KOBio3"
      },
      "execution_count": null,
      "outputs": []
    },
    {
      "cell_type": "code",
      "source": [
        "history_incep = incep_model.fit(incep_train_generator,\n",
        "                                steps_per_epoch = 100,\n",
        "                                epochs = 15,\n",
        "                                validation_data = incep_valid_generator,\n",
        "                                validation_steps = 100)"
      ],
      "metadata": {
        "colab": {
          "base_uri": "https://localhost:8080/"
        },
        "id": "-_hhqw7zCSdD",
        "outputId": "2d373eae-7b15-4f84-9a0d-e69d487c791f"
      },
      "execution_count": null,
      "outputs": [
        {
          "output_type": "stream",
          "name": "stdout",
          "text": [
            "Epoch 1/15\n",
            "100/100 [==============================] - ETA: 0s - loss: 3.3144 - acc: 0.3236 "
          ]
        },
        {
          "output_type": "stream",
          "name": "stderr",
          "text": [
            "WARNING:tensorflow:Your input ran out of data; interrupting training. Make sure that your dataset or generator can generate at least `steps_per_epoch * epochs` batches (in this case, 100 batches). You may need to use the repeat() function when building your dataset.\n"
          ]
        },
        {
          "output_type": "stream",
          "name": "stdout",
          "text": [
            "\b\b\b\b\b\b\b\b\b\b\b\b\b\b\b\b\b\b\b\b\b\b\b\b\b\b\b\b\b\b\b\b\b\b\b\b\b\b\b\b\b\b\b\b\b\b\b\b\b\b\b\b\b\b\b\b\b\b\b\b\b\b\b\b\b\b\b\b\b\b\b\b\b\b\b\b\b\b\b\r100/100 [==============================] - 1854s 18s/step - loss: 3.3144 - acc: 0.3236 - val_loss: 1.0789 - val_acc: 0.6600\n",
            "Epoch 2/15\n",
            "100/100 [==============================] - 38s 376ms/step - loss: 0.9646 - acc: 0.6784\n",
            "Epoch 3/15\n",
            "100/100 [==============================] - 36s 359ms/step - loss: 0.4676 - acc: 0.8494\n",
            "Epoch 4/15\n",
            "100/100 [==============================] - 37s 369ms/step - loss: 0.3159 - acc: 0.9042\n",
            "Epoch 5/15\n",
            "100/100 [==============================] - 37s 368ms/step - loss: 0.2194 - acc: 0.9318\n",
            "Epoch 6/15\n",
            "100/100 [==============================] - 36s 362ms/step - loss: 0.2016 - acc: 0.9372\n",
            "Epoch 7/15\n",
            "100/100 [==============================] - 37s 373ms/step - loss: 0.1574 - acc: 0.9514\n",
            "Epoch 8/15\n",
            "100/100 [==============================] - 36s 364ms/step - loss: 0.1568 - acc: 0.9524\n",
            "Epoch 9/15\n",
            "100/100 [==============================] - 36s 363ms/step - loss: 0.1325 - acc: 0.9606\n",
            "Epoch 10/15\n",
            "100/100 [==============================] - 37s 366ms/step - loss: 0.1573 - acc: 0.9548\n",
            "Epoch 11/15\n",
            "100/100 [==============================] - 37s 369ms/step - loss: 0.1485 - acc: 0.9556\n",
            "Epoch 12/15\n",
            "100/100 [==============================] - 37s 366ms/step - loss: 0.1049 - acc: 0.9700\n",
            "Epoch 13/15\n",
            "100/100 [==============================] - 36s 357ms/step - loss: 0.1028 - acc: 0.9676\n",
            "Epoch 14/15\n",
            "100/100 [==============================] - 37s 366ms/step - loss: 0.1079 - acc: 0.9652\n",
            "Epoch 15/15\n",
            "100/100 [==============================] - 36s 362ms/step - loss: 0.0868 - acc: 0.9752\n"
          ]
        }
      ]
    },
    {
      "cell_type": "code",
      "source": [
        "import matplotlib.pyplot as plt\n",
        "\n",
        "history_dict = history_incep.history\n",
        "loss_values = history_dict['loss']\n",
        "acc_values = history_dict['acc']\n",
        "epochs = range(1, len(loss_values) + 1)\n",
        "\n",
        "marker = [1, 1, 1, 1, 1, 1, 1, 1, 1, 1, 1, 1, 1, 1, 1]\n",
        "\n",
        "plt.plot(epochs, loss_values, 'bo', label = 'Training Loss')\n",
        "plt.plot(epochs, acc_values, 'b', label = 'Training Accuracy')\n",
        "plt.plot(epochs, marker, 'r', label = '1 line marker')\n",
        "plt.title('Training Accuracy and Loss')\n",
        "plt.xlabel('EPOCHS')\n",
        "plt.ylabel('LOSS AND ACCURACY')\n",
        "plt.legend()\n",
        "plt.show()"
      ],
      "metadata": {
        "colab": {
          "base_uri": "https://localhost:8080/",
          "height": 472
        },
        "id": "2Qr3IqK1CwNb",
        "outputId": "c6c86622-e947-436c-9e83-95e8a143fb03"
      },
      "execution_count": null,
      "outputs": [
        {
          "output_type": "display_data",
          "data": {
            "text/plain": [
              "<Figure size 640x480 with 1 Axes>"
            ],
            "image/png": "[encoded data removed]"
          },
          "metadata": {}
        }
      ]
    },
    {
      "cell_type": "code",
      "source": [
        "test_loss, test_acc = incep_model.evaluate(incep_test_generator)"
      ],
      "metadata": {
        "colab": {
          "base_uri": "https://localhost:8080/"
        },
        "id": "HoYz_C-ZM6Xl",
        "outputId": "632cb737-bce7-4d84-c40c-56b31c10d36e"
      },
      "execution_count": null,
      "outputs": [
        {
          "output_type": "stream",
          "name": "stdout",
          "text": [
            "24/24 [==============================] - 352s 15s/step - loss: 0.1631 - acc: 0.9558\n"
          ]
        }
      ]
    },
    {
      "cell_type": "code",
      "source": [
        "incep_model.save('InceptionNet V3 - HDandD Net.h5')"
      ],
      "metadata": {
        "id": "QkcVoHm7OKOv"
      },
      "execution_count": null,
      "outputs": []
    }
  ]
}